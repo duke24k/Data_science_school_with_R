{
 "cells": [
  {
   "cell_type": "code",
   "execution_count": 1,
   "metadata": {
    "collapsed": true
   },
   "outputs": [],
   "source": [
    "# 그룹프로젝트 ==> ppt 형식으로 정리하기\n",
    "# outlier는 어떻게 측정이 되는지 (레버리지에 대해서 )\n",
    "\n",
    "# 1조 김태형, 김현지, 박성우\n",
    "# 1)지역변수에 집중하여 진행\n",
    "# 2) price per sqft : 기준 종속 변수를 변경하였음.\n",
    "# 3) k-means 방법으로 더미변수 추출! ==> 8개의 집단으로 나눔\n",
    "# 한계점: train / test data를 나누지 않고 진행, k 의 결정하는 기준\n",
    "# 피드백: 지도 가격 / 위도 경도 / ==> price를 굳이 정규분포를 만들지 않고, 있는 데이터에 대해서\n",
    "# 모델1 .. N 까지의 모든 내용을 담았으면...:\n",
    "\n",
    "# 2조 정서현, 권오준, 박정근\n",
    "# 1) 집의 위치에 따라 location\n",
    "# 2) \n",
    "# 실전에서는, 이론에 갇히면 안됨!\n",
    "\n",
    "# 3조 전수범, 한상훈, 황윤주 \n",
    "# 데이터가 일별로 group by로 평균 / 합계\n",
    "# train / test data\n",
    "# school ==> public / private 으로 나눠봐도 좋을듯. \n",
    "# 새로운 변수를 찾는 \n",
    "\n",
    "# 4조 하정철, 박경호, 김나래\n",
    "# \n",
    "\n",
    "# ==> 예측치; decision tree\n",
    "# log == (해석이 어려워짐)"
   ]
  },
  {
   "cell_type": "markdown",
   "metadata": {},
   "source": [
    "House sales in King county 데이터 분석 단계\n",
    "\n",
    "    1) ㅇㅇㅇㅇㅇ"
   ]
  },
  {
   "cell_type": "code",
   "execution_count": null,
   "metadata": {
    "collapsed": true
   },
   "outputs": [],
   "source": []
  }
 ],
 "metadata": {
  "kernelspec": {
   "display_name": "R",
   "language": "R",
   "name": "ir"
  },
  "language_info": {
   "codemirror_mode": "r",
   "file_extension": ".r",
   "mimetype": "text/x-r-source",
   "name": "R",
   "pygments_lexer": "r",
   "version": "3.3.2"
  }
 },
 "nbformat": 4,
 "nbformat_minor": 0
}
