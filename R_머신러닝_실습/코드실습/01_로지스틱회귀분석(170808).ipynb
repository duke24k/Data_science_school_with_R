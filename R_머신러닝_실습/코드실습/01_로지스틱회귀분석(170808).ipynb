{
 "cells": [
  {
   "cell_type": "markdown",
   "metadata": {},
   "source": [
    "# 01. 로지스틱 회귀분석"
   ]
  },
  {
   "cell_type": "markdown",
   "metadata": {},
   "source": [
    "## 실습 (1) Titanic\n",
    "kaggle Titanic Competition => kaggle_titanic.csv import"
   ]
  },
  {
   "cell_type": "code",
   "execution_count": 2,
   "metadata": {
    "collapsed": false
   },
   "outputs": [
    {
     "name": "stdout",
     "output_type": "stream",
     "text": [
      "'data.frame':\t891 obs. of  12 variables:\n",
      " $ PassengerId: int  1 2 3 4 5 6 7 8 9 10 ...\n",
      " $ Survived   : int  0 1 1 1 0 0 0 0 1 1 ...\n",
      " $ Pclass     : int  3 1 3 1 3 3 1 3 3 2 ...\n",
      " $ Name       : Factor w/ 891 levels \"Abbing, Mr. Anthony\",..: 109 191 358 277 16 559 520 629 416 581 ...\n",
      " $ Sex        : Factor w/ 2 levels \"female\",\"male\": 2 1 1 1 2 2 2 2 1 1 ...\n",
      " $ Age        : num  22 38 26 35 35 NA 54 2 27 14 ...\n",
      " $ SibSp      : int  1 1 0 1 0 0 0 3 0 1 ...\n",
      " $ Parch      : int  0 0 0 0 0 0 0 1 2 0 ...\n",
      " $ Ticket     : Factor w/ 681 levels \"110152\",\"110413\",..: 525 596 662 50 473 276 86 396 345 133 ...\n",
      " $ Fare       : num  7.25 71.28 7.92 53.1 8.05 ...\n",
      " $ Cabin      : Factor w/ 148 levels \"\",\"A10\",\"A14\",..: 1 83 1 57 1 1 131 1 1 1 ...\n",
      " $ Embarked   : Factor w/ 4 levels \"\",\"C\",\"Q\",\"S\": 4 2 4 4 4 3 4 4 4 2 ...\n"
     ]
    }
   ],
   "source": [
    "# read titanic data\n",
    "train <- read.csv(\"./data/kaggle_titanic.csv\")\n",
    "\n",
    "str(train)"
   ]
  },
  {
   "cell_type": "code",
   "execution_count": 4,
   "metadata": {
    "collapsed": false
   },
   "outputs": [
    {
     "data": {
      "text/html": [
       "<table>\n",
       "<thead><tr><th></th><th scope=col>PassengerId</th><th scope=col>Survived</th><th scope=col>Pclass</th><th scope=col>Name</th><th scope=col>Sex</th><th scope=col>Age</th><th scope=col>SibSp</th><th scope=col>Parch</th><th scope=col>Ticket</th><th scope=col>Fare</th><th scope=col>Cabin</th><th scope=col>Embarked</th></tr></thead>\n",
       "<tbody>\n",
       "\t<tr><th scope=row>246</th><td>246                        </td><td>0                          </td><td>1                          </td><td>Minahan, Dr. William Edward</td><td>male                       </td><td>44.0                       </td><td>2                          </td><td>0                          </td><td>19928                      </td><td>90.0000                    </td><td>C78                        </td><td>Q                          </td></tr>\n",
       "\t<tr><th scope=row>846</th><td>846                        </td><td>0                          </td><td>3                          </td><td>Abbing, Mr. Anthony        </td><td>male                       </td><td>42.0                       </td><td>0                          </td><td>0                          </td><td>C.A. 5547                  </td><td> 7.5500                    </td><td>                           </td><td>S                          </td></tr>\n",
       "\t<tr><th scope=row>357</th><td>357                        </td><td>1                          </td><td>1                          </td><td>Bowerman, Miss. Elsie Edith</td><td>female                     </td><td>22.0                       </td><td>0                          </td><td>1                          </td><td>113505                     </td><td>55.0000                    </td><td>E33                        </td><td>S                          </td></tr>\n",
       "\t<tr><th scope=row>666</th><td>666                        </td><td>0                          </td><td>2                          </td><td>Hickman, Mr. Lewis         </td><td>male                       </td><td>32.0                       </td><td>2                          </td><td>0                          </td><td>S.O.C. 14879               </td><td>73.5000                    </td><td>                           </td><td>S                          </td></tr>\n",
       "\t<tr><th scope=row>885</th><td>885                        </td><td>0                          </td><td>3                          </td><td>Sutehall, Mr. Henry Jr     </td><td>male                       </td><td>25.0                       </td><td>0                          </td><td>0                          </td><td>SOTON/OQ 392076            </td><td> 7.0500                    </td><td>                           </td><td>S                          </td></tr>\n",
       "\t<tr><th scope=row>844</th><td>844                        </td><td>0                          </td><td>3                          </td><td>Lemberopolous, Mr. Peter L </td><td>male                       </td><td>34.5                       </td><td>0                          </td><td>0                          </td><td>2683                       </td><td> 6.4375                    </td><td>                           </td><td>C                          </td></tr>\n",
       "</tbody>\n",
       "</table>\n"
      ],
      "text/latex": [
       "\\begin{tabular}{r|llllllllllll}\n",
       "  & PassengerId & Survived & Pclass & Name & Sex & Age & SibSp & Parch & Ticket & Fare & Cabin & Embarked\\\\\n",
       "\\hline\n",
       "\t246 & 246                         & 0                           & 1                           & Minahan, Dr. William Edward & male                        & 44.0                        & 2                           & 0                           & 19928                       & 90.0000                     & C78                         & Q                          \\\\\n",
       "\t846 & 846                         & 0                           & 3                           & Abbing, Mr. Anthony         & male                        & 42.0                        & 0                           & 0                           & C.A. 5547                   &  7.5500                     &                             & S                          \\\\\n",
       "\t357 & 357                         & 1                           & 1                           & Bowerman, Miss. Elsie Edith & female                      & 22.0                        & 0                           & 1                           & 113505                      & 55.0000                     & E33                         & S                          \\\\\n",
       "\t666 & 666                         & 0                           & 2                           & Hickman, Mr. Lewis          & male                        & 32.0                        & 2                           & 0                           & S.O.C. 14879                & 73.5000                     &                             & S                          \\\\\n",
       "\t885 & 885                         & 0                           & 3                           & Sutehall, Mr. Henry Jr      & male                        & 25.0                        & 0                           & 0                           & SOTON/OQ 392076             &  7.0500                     &                             & S                          \\\\\n",
       "\t844 & 844                         & 0                           & 3                           & Lemberopolous, Mr. Peter L  & male                        & 34.5                        & 0                           & 0                           & 2683                        &  6.4375                     &                             & C                          \\\\\n",
       "\\end{tabular}\n"
      ],
      "text/markdown": [
       "\n",
       "| <!--/--> | PassengerId | Survived | Pclass | Name | Sex | Age | SibSp | Parch | Ticket | Fare | Cabin | Embarked | \n",
       "|---|---|---|---|---|---|\n",
       "| 246 | 246                         | 0                           | 1                           | Minahan, Dr. William Edward | male                        | 44.0                        | 2                           | 0                           | 19928                       | 90.0000                     | C78                         | Q                           | \n",
       "| 846 | 846                         | 0                           | 3                           | Abbing, Mr. Anthony         | male                        | 42.0                        | 0                           | 0                           | C.A. 5547                   |  7.5500                     |                             | S                           | \n",
       "| 357 | 357                         | 1                           | 1                           | Bowerman, Miss. Elsie Edith | female                      | 22.0                        | 0                           | 1                           | 113505                      | 55.0000                     | E33                         | S                           | \n",
       "| 666 | 666                         | 0                           | 2                           | Hickman, Mr. Lewis          | male                        | 32.0                        | 2                           | 0                           | S.O.C. 14879                | 73.5000                     |                             | S                           | \n",
       "| 885 | 885                         | 0                           | 3                           | Sutehall, Mr. Henry Jr      | male                        | 25.0                        | 0                           | 0                           | SOTON/OQ 392076             |  7.0500                     |                             | S                           | \n",
       "| 844 | 844                         | 0                           | 3                           | Lemberopolous, Mr. Peter L  | male                        | 34.5                        | 0                           | 0                           | 2683                        |  6.4375                     |                             | C                           | \n",
       "\n",
       "\n"
      ],
      "text/plain": [
       "    PassengerId Survived Pclass Name                        Sex    Age  SibSp\n",
       "246 246         0        1      Minahan, Dr. William Edward male   44.0 2    \n",
       "846 846         0        3      Abbing, Mr. Anthony         male   42.0 0    \n",
       "357 357         1        1      Bowerman, Miss. Elsie Edith female 22.0 0    \n",
       "666 666         0        2      Hickman, Mr. Lewis          male   32.0 2    \n",
       "885 885         0        3      Sutehall, Mr. Henry Jr      male   25.0 0    \n",
       "844 844         0        3      Lemberopolous, Mr. Peter L  male   34.5 0    \n",
       "    Parch Ticket          Fare    Cabin Embarked\n",
       "246 0     19928           90.0000 C78   Q       \n",
       "846 0     C.A. 5547        7.5500       S       \n",
       "357 1     113505          55.0000 E33   S       \n",
       "666 0     S.O.C. 14879    73.5000       S       \n",
       "885 0     SOTON/OQ 392076  7.0500       S       \n",
       "844 0     2683             6.4375       C       "
      ]
     },
     "metadata": {},
     "output_type": "display_data"
    }
   ],
   "source": [
    "# divide train / test data\n",
    "set.seed(57)\n",
    "index.train <- sample(1:nrow(train), 800)\n",
    "titanic.train <- train[index.train, ]\n",
    "titanic.test <- train[-index.train, ]\n",
    "tail(titanic.train)"
   ]
  },
  {
   "cell_type": "markdown",
   "metadata": {},
   "source": [
    "### step 1: all variables with glm"
   ]
  },
  {
   "cell_type": "code",
   "execution_count": 5,
   "metadata": {
    "collapsed": false
   },
   "outputs": [
    {
     "name": "stderr",
     "output_type": "stream",
     "text": [
      "Warning message:\n",
      "“glm.fit: algorithm did not converge”"
     ]
    }
   ],
   "source": [
    "model.titanic <- glm(Survived ~., family = binomial(link = 'logit'), data = titanic.train)"
   ]
  },
  {
   "cell_type": "code",
   "execution_count": 7,
   "metadata": {
    "collapsed": false
   },
   "outputs": [],
   "source": [
    "# summary(model.titanic)"
   ]
  },
  {
   "cell_type": "markdown",
   "metadata": {},
   "source": [
    "### step 2: numeric variables with glm"
   ]
  },
  {
   "cell_type": "code",
   "execution_count": 8,
   "metadata": {
    "collapsed": false
   },
   "outputs": [
    {
     "data": {
      "text/plain": [
       "\n",
       "Call:\n",
       "glm(formula = Survived ~ Pclass + Age + SibSp + Parch + Fare, \n",
       "    family = binomial(link = \"logit\"), data = titanic.train)\n",
       "\n",
       "Deviance Residuals: \n",
       "    Min       1Q   Median       3Q      Max  \n",
       "-2.4088  -0.8504  -0.6104   0.9813   2.4071  \n",
       "\n",
       "Coefficients:\n",
       "             Estimate Std. Error z value Pr(>|z|)    \n",
       "(Intercept)  3.682903   0.530049   6.948 3.70e-12 ***\n",
       "Pclass      -1.212184   0.153942  -7.874 3.43e-15 ***\n",
       "Age         -0.046144   0.007504  -6.149 7.79e-10 ***\n",
       "SibSp       -0.327042   0.113071  -2.892  0.00382 ** \n",
       "Parch        0.235117   0.115339   2.038  0.04150 *  \n",
       "Fare         0.002131   0.002569   0.829  0.40688    \n",
       "---\n",
       "Signif. codes:  0 ‘***’ 0.001 ‘**’ 0.01 ‘*’ 0.05 ‘.’ 0.1 ‘ ’ 1\n",
       "\n",
       "(Dispersion parameter for binomial family taken to be 1)\n",
       "\n",
       "    Null deviance: 871.75  on 641  degrees of freedom\n",
       "Residual deviance: 733.56  on 636  degrees of freedom\n",
       "  (158 observations deleted due to missingness)\n",
       "AIC: 745.56\n",
       "\n",
       "Number of Fisher Scoring iterations: 4\n"
      ]
     },
     "metadata": {},
     "output_type": "display_data"
    }
   ],
   "source": [
    "model.titanic <- glm(Survived~Pclass+Age+SibSp+Parch+Fare,\n",
    "                     family=binomial(link='logit'),data=titanic.train)\n",
    "summary(model.titanic)"
   ]
  },
  {
   "cell_type": "markdown",
   "metadata": {},
   "source": [
    "- Deviance Residuals: 잔차들의 분포\n",
    "- Coefficients\n",
    "    * Estimate: 추정된 계수\n",
    "    * Std. Error: 표준오차\n",
    "    * z value: 표준오차와 표준편차로부터\n",
    "    * Pr(>|z|): p-value\n",
    "- Residual deviance: 얼마나 모형에서 벗어났는지\n",
    "- Null deviance: (Intercept)만 고려할 때 얼마나 모형에서 벗어났는지"
   ]
  },
  {
   "cell_type": "markdown",
   "metadata": {},
   "source": [
    "### step 3: numeric var and categorical var"
   ]
  },
  {
   "cell_type": "code",
   "execution_count": 9,
   "metadata": {
    "collapsed": false
   },
   "outputs": [
    {
     "data": {
      "text/plain": [
       "\n",
       "Call:\n",
       "glm(formula = Survived ~ Pclass + Sex + Age + SibSp + Parch + \n",
       "    Fare + Embarked, family = binomial(link = \"logit\"), data = titanic.train)\n",
       "\n",
       "Deviance Residuals: \n",
       "    Min       1Q   Median       3Q      Max  \n",
       "-2.6971  -0.6445  -0.3550   0.6335   2.4497  \n",
       "\n",
       "Coefficients:\n",
       "              Estimate Std. Error z value Pr(>|z|)    \n",
       "(Intercept)  1.825e+01  6.067e+02   0.030  0.97601    \n",
       "Pclass      -1.284e+00  1.755e-01  -7.315 2.57e-13 ***\n",
       "Sexmale     -2.664e+00  2.378e-01 -11.205  < 2e-16 ***\n",
       "Age         -4.500e-02  8.561e-03  -5.257 1.47e-07 ***\n",
       "SibSp       -3.591e-01  1.389e-01  -2.585  0.00973 ** \n",
       "Parch       -6.654e-02  1.327e-01  -0.501  0.61604    \n",
       "Fare        -8.036e-04  2.794e-03  -0.288  0.77363    \n",
       "EmbarkedC   -1.206e+01  6.067e+02  -0.020  0.98414    \n",
       "EmbarkedQ   -1.337e+01  6.067e+02  -0.022  0.98242    \n",
       "EmbarkedS   -1.265e+01  6.067e+02  -0.021  0.98337    \n",
       "---\n",
       "Signif. codes:  0 ‘***’ 0.001 ‘**’ 0.01 ‘*’ 0.05 ‘.’ 0.1 ‘ ’ 1\n",
       "\n",
       "(Dispersion parameter for binomial family taken to be 1)\n",
       "\n",
       "    Null deviance: 871.75  on 641  degrees of freedom\n",
       "Residual deviance: 567.07  on 632  degrees of freedom\n",
       "  (158 observations deleted due to missingness)\n",
       "AIC: 587.07\n",
       "\n",
       "Number of Fisher Scoring iterations: 13\n"
      ]
     },
     "metadata": {},
     "output_type": "display_data"
    }
   ],
   "source": [
    "model.titanic <- glm(Survived~Pclass+Sex+Age+SibSp+Parch+Fare+Embarked,\n",
    "                     family=binomial(link='logit'),data=titanic.train)\n",
    "summary(model.titanic)"
   ]
  },
  {
   "cell_type": "markdown",
   "metadata": {},
   "source": [
    "<b>Embarked는 총 세가지 변수로 구성되어있는데, 이를 자동으로 새로운 column을 생성하여 fitting 된다.</b>"
   ]
  },
  {
   "cell_type": "markdown",
   "metadata": {},
   "source": [
    "### step 4: Age가 NA인 경우 평균값 사용"
   ]
  },
  {
   "cell_type": "code",
   "execution_count": 11,
   "metadata": {
    "collapsed": false
   },
   "outputs": [
    {
     "data": {
      "text/plain": [
       "\n",
       "Call:\n",
       "glm(formula = Survived ~ Pclass + Sex + Age + SibSp + Parch + \n",
       "    Fare + Embarked, family = binomial(link = \"logit\"), data = titanic.train)\n",
       "\n",
       "Deviance Residuals: \n",
       "    Min       1Q   Median       3Q      Max  \n",
       "-2.6971  -0.6445  -0.3550   0.6335   2.4497  \n",
       "\n",
       "Coefficients:\n",
       "              Estimate Std. Error z value Pr(>|z|)    \n",
       "(Intercept)  1.825e+01  6.067e+02   0.030  0.97601    \n",
       "Pclass      -1.284e+00  1.755e-01  -7.315 2.57e-13 ***\n",
       "Sexmale     -2.664e+00  2.378e-01 -11.205  < 2e-16 ***\n",
       "Age         -4.500e-02  8.561e-03  -5.257 1.47e-07 ***\n",
       "SibSp       -3.591e-01  1.389e-01  -2.585  0.00973 ** \n",
       "Parch       -6.654e-02  1.327e-01  -0.501  0.61604    \n",
       "Fare        -8.036e-04  2.794e-03  -0.288  0.77363    \n",
       "EmbarkedC   -1.206e+01  6.067e+02  -0.020  0.98414    \n",
       "EmbarkedQ   -1.337e+01  6.067e+02  -0.022  0.98242    \n",
       "EmbarkedS   -1.265e+01  6.067e+02  -0.021  0.98337    \n",
       "---\n",
       "Signif. codes:  0 ‘***’ 0.001 ‘**’ 0.01 ‘*’ 0.05 ‘.’ 0.1 ‘ ’ 1\n",
       "\n",
       "(Dispersion parameter for binomial family taken to be 1)\n",
       "\n",
       "    Null deviance: 871.75  on 641  degrees of freedom\n",
       "Residual deviance: 567.07  on 632  degrees of freedom\n",
       "  (158 observations deleted due to missingness)\n",
       "AIC: 587.07\n",
       "\n",
       "Number of Fisher Scoring iterations: 13\n"
      ]
     },
     "metadata": {},
     "output_type": "display_data"
    }
   ],
   "source": [
    "titanic.train$age[is.na(titanic.train$Age)] <- mean(titanic.train$Age, na.rm=TRUE)\n",
    "model.titanic_2 <- glm(Survived~Pclass+Sex+Age+SibSp+Parch+Fare+Embarked,\n",
    "                     family=binomial(link='logit'),data=titanic.train)\n",
    "summary(model.titanic_2)"
   ]
  },
  {
   "cell_type": "markdown",
   "metadata": {},
   "source": [
    "<b>평균값으로 대체하였으나 크게 유의하지 않음.</b>"
   ]
  },
  {
   "cell_type": "markdown",
   "metadata": {},
   "source": [
    "### step 5: 예측에 사용한 변수 선택"
   ]
  },
  {
   "cell_type": "code",
   "execution_count": 13,
   "metadata": {
    "collapsed": false
   },
   "outputs": [
    {
     "data": {
      "text/html": [
       "<table>\n",
       "<thead><tr><th></th><th scope=col>Pclass</th><th scope=col>Sex</th><th scope=col>Age</th><th scope=col>SibSp</th><th scope=col>Parch</th><th scope=col>Fare</th><th scope=col>Embarked</th></tr></thead>\n",
       "<tbody>\n",
       "\t<tr><th scope=row>829</th><td>3      </td><td>male   </td><td>NA     </td><td>0      </td><td>0      </td><td> 7.7500</td><td>Q      </td></tr>\n",
       "\t<tr><th scope=row>853</th><td>3      </td><td>female </td><td> 9     </td><td>1      </td><td>1      </td><td>15.2458</td><td>C      </td></tr>\n",
       "\t<tr><th scope=row>872</th><td>1      </td><td>female </td><td>47     </td><td>1      </td><td>1      </td><td>52.5542</td><td>S      </td></tr>\n",
       "\t<tr><th scope=row>875</th><td>2      </td><td>female </td><td>28     </td><td>1      </td><td>0      </td><td>24.0000</td><td>C      </td></tr>\n",
       "\t<tr><th scope=row>876</th><td>3      </td><td>female </td><td>15     </td><td>0      </td><td>0      </td><td> 7.2250</td><td>C      </td></tr>\n",
       "\t<tr><th scope=row>880</th><td>1      </td><td>female </td><td>56     </td><td>0      </td><td>1      </td><td>83.1583</td><td>C      </td></tr>\n",
       "</tbody>\n",
       "</table>\n"
      ],
      "text/latex": [
       "\\begin{tabular}{r|lllllll}\n",
       "  & Pclass & Sex & Age & SibSp & Parch & Fare & Embarked\\\\\n",
       "\\hline\n",
       "\t829 & 3       & male    & NA      & 0       & 0       &  7.7500 & Q      \\\\\n",
       "\t853 & 3       & female  &  9      & 1       & 1       & 15.2458 & C      \\\\\n",
       "\t872 & 1       & female  & 47      & 1       & 1       & 52.5542 & S      \\\\\n",
       "\t875 & 2       & female  & 28      & 1       & 0       & 24.0000 & C      \\\\\n",
       "\t876 & 3       & female  & 15      & 0       & 0       &  7.2250 & C      \\\\\n",
       "\t880 & 1       & female  & 56      & 0       & 1       & 83.1583 & C      \\\\\n",
       "\\end{tabular}\n"
      ],
      "text/markdown": [
       "\n",
       "| <!--/--> | Pclass | Sex | Age | SibSp | Parch | Fare | Embarked | \n",
       "|---|---|---|---|---|---|\n",
       "| 829 | 3       | male    | NA      | 0       | 0       |  7.7500 | Q       | \n",
       "| 853 | 3       | female  |  9      | 1       | 1       | 15.2458 | C       | \n",
       "| 872 | 1       | female  | 47      | 1       | 1       | 52.5542 | S       | \n",
       "| 875 | 2       | female  | 28      | 1       | 0       | 24.0000 | C       | \n",
       "| 876 | 3       | female  | 15      | 0       | 0       |  7.2250 | C       | \n",
       "| 880 | 1       | female  | 56      | 0       | 1       | 83.1583 | C       | \n",
       "\n",
       "\n"
      ],
      "text/plain": [
       "    Pclass Sex    Age SibSp Parch Fare    Embarked\n",
       "829 3      male   NA  0     0      7.7500 Q       \n",
       "853 3      female  9  1     1     15.2458 C       \n",
       "872 1      female 47  1     1     52.5542 S       \n",
       "875 2      female 28  1     0     24.0000 C       \n",
       "876 3      female 15  0     0      7.2250 C       \n",
       "880 1      female 56  0     1     83.1583 C       "
      ]
     },
     "metadata": {},
     "output_type": "display_data"
    }
   ],
   "source": [
    "titanic.test.fit <- subset(titanic.test,select=c(3,5,6,7,8,10,12))\n",
    "tail(titanic.test.fit)"
   ]
  },
  {
   "cell_type": "code",
   "execution_count": null,
   "metadata": {
    "collapsed": true
   },
   "outputs": [],
   "source": []
  },
  {
   "cell_type": "code",
   "execution_count": null,
   "metadata": {
    "collapsed": true
   },
   "outputs": [],
   "source": []
  }
 ],
 "metadata": {
  "kernelspec": {
   "display_name": "R",
   "language": "R",
   "name": "ir"
  },
  "language_info": {
   "codemirror_mode": "r",
   "file_extension": ".r",
   "mimetype": "text/x-r-source",
   "name": "R",
   "pygments_lexer": "r",
   "version": "3.3.2"
  }
 },
 "nbformat": 4,
 "nbformat_minor": 0
}
